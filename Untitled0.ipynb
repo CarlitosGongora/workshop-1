{
  "nbformat": 4,
  "nbformat_minor": 0,
  "metadata": {
    "colab": {
      "provenance": []
    },
    "kernelspec": {
      "name": "python3",
      "display_name": "Python 3"
    },
    "language_info": {
      "name": "python"
    }
  },
  "cells": [
    {
      "cell_type": "markdown",
      "source": [
        "# Workshop 1"
      ],
      "metadata": {
        "id": "OXj1QGhQTDfr"
      }
    },
    {
      "cell_type": "markdown",
      "source": [
        "definition of classes with their attributes"
      ],
      "metadata": {
        "id": "Hofl-bXPTIyd"
      }
    },
    {
      "cell_type": "code",
      "execution_count": 6,
      "metadata": {
        "id": "GKdzUpQqJTNn"
      },
      "outputs": [],
      "source": [
        "'''\n",
        "This part of the code contains de definition of the classes for the Workshop 1\n",
        "Author: Carlos Gongora\n",
        "Date: Mar 15 2024\n",
        "'''\n",
        "class Vehicle():\n",
        "  '''This class represten is main class of the program and other classes inherit from them'''\n",
        "  def __init__(self, engine, chasis, model, consumption, year):\n",
        "    self.engine = None\n",
        "    self.chasis = chasis\n",
        "    self.model = model\n",
        "    self.__consumption = None\n",
        "    self.year = year\n",
        "\n",
        "  def enginedef(self, engine):\n",
        "    '''This method works for the agregation of an engine'''\n",
        "    if isinstance(engine, Engine):\n",
        "      self.engine = Engine\n",
        "    else:\n",
        "      print(\"Defina el motor\")\n",
        "\n",
        "\n",
        "class Engine():\n",
        "  \"\"\"the class engine contains the especifications of the engie\"\"\"\n",
        "  def __init__(self, name, type_of_engine, potency, weight):\n",
        "    self.name = name\n",
        "    self.type_of_engine = type_of_engine\n",
        "    self.potency = potency\n",
        "    self. weight = weight\n",
        "\n",
        "  def gas_consuption(self, potency, weight):\n",
        "      if chasis == \"A\":\n",
        "        gasConsumption = (1.1 * potency) + (0.2 * weight)-0.3\n",
        "        return gasConsumption\n",
        "      elif chasis == \"B\":\n",
        "        instancy = Engine()\n",
        "        gasConsumption = (1.1 * potency) + (0.2 * weight)-0.5\n",
        "        return gasConsumption\n",
        "\n",
        "class Motorcycle(Vehicle):\n",
        "  def __init__(self,engine, chasis, model, consumption, year, drivingtype, typem):\n",
        "    self.drivingtype = drivingtype\n",
        "    self.typem = typem\n",
        "    super().__init__(self, engine, chasis, model, consumption, year)\n",
        "\n",
        "class Yacth(Vehicle):\n",
        "  def __init__(self,engine, chasis, model, consumption, year, usage, size):\n",
        "    self.usage = usage\n",
        "    self.size = size\n",
        "    super().__init__(self, engine, chasis, model, consumption, year)\n",
        "\n",
        "\n",
        "class Truck(Vehicle):\n",
        "  def __init__(self,engine, chasis, model, consumption, year, storage, nowheels):\n",
        "    self.storage = storage\n",
        "    self.nowheels = nowheels\n",
        "    super().__init__(self, engine, chasis, model, consumption, year)\n",
        "\n",
        "class Car(Vehicle):\n",
        "  def __init__(self,engine, chasis, model, consumption, year, noseatings, drivingtype):\n",
        "    self.noseatings = noseatings\n",
        "    self.drivingtype = drivingtype\n",
        "    super().__init__(self, engine, chasis, model, consumption, year)"
      ]
    },
    {
      "cell_type": "code",
      "source": [
        "MESSAGE = \"\"\"\n",
        "Opcion 1: Crear yate\n",
        "Opcion 2: Crear carro\n",
        "Opcion 3: Crear moto\n",
        "Opcion 4: Crear camion\n",
        "Opcion 5: Crear un motor\n",
        "Opcion 6: Ver todos los vehiculos\n",
        "-----------\n",
        "Opcion 8: Salir\n",
        "\"\"\"\n",
        "print(MESSAGE)\n",
        "option = int(input(\"Seleccione una opcion: \"))\n",
        "while option != 8:\n",
        "  if option == 1:\n",
        "    print(\"Seleccione las caracteristicas del  yate\")\n",
        "    chasis = input(\"Seleccione el chasis\")\n",
        "    mod = input(\"Seleccione el modelo\")\n",
        "    yea = input(\"Seleccione el chasis\")\n",
        "    usage = input(\"Seleccione el uso del yate\")\n",
        "    siz = input(\"Seleccione el tamaño\")\n",
        "    yate= Yacth()\n",
        "  elif option == 2:\n",
        "    print(\"Seleccione\")\n",
        "  elif option == 3:\n",
        "    print(\"Seleccione\")\n",
        "  elif option == 4:\n",
        "    print(\"Seleccione\")\n",
        "  elif option == 5:\n",
        "    print(\"Seleccione las caracteristicas del motor\")\n",
        "    name = input(\"Nombre del motor\")\n",
        "    tyoe = input(\"Tipo de motor\")\n",
        "    po = input(\"Potencia de motor\")\n",
        "    we = input(\"Peso de motor\")\n",
        "    motor = Engine(name, tyoe, po, we)\n",
        "    print(\"Motor creado\")\n",
        "    print(motor)\n",
        "    break\n",
        "  elif option == 6:\n",
        "    print(\"Seleccione\")\n",
        "  else:\n",
        "    print(\"Seleccione una opcion\")\n",
        ""
      ],
      "metadata": {
        "colab": {
          "base_uri": "https://localhost:8080/"
        },
        "id": "5eYyoGQJY_2z",
        "outputId": "14dbb85a-9646-4ea7-b121-82d38ad20ba4"
      },
      "execution_count": null,
      "outputs": [
        {
          "output_type": "stream",
          "name": "stdout",
          "text": [
            "\n",
            "Opcion 1: Crear yate\n",
            "Opcion 2: Crear carro\n",
            "Opcion 3: Crear moto\n",
            "Opcion 4: Crear camion\n",
            "Opcion 5: Crear un motor\n",
            "Opcion 6: Ver todos los vehiculos\n",
            "-----------\n",
            "Opcion 8: Salir\n",
            "\n",
            "Seleccione una opcion: 6\n",
            "Seleccione las caracteristicas del motor\n",
            "Nombre del motorpepe\n",
            "Tipo de motor12\n",
            "Potencia de motor12\n",
            "Peso de motor12\n",
            "Motor creado\n",
            "<__main__.Engine object at 0x7a0cd1fa7550>\n",
            "Seleccione las caracteristicas del motor\n"
          ]
        }
      ]
    }
  ]
}